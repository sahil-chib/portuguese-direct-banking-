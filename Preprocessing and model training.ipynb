{
 "cells": [
  {
   "cell_type": "code",
   "execution_count": 1,
   "metadata": {},
   "outputs": [
    {
     "data": {
      "text/html": [
       "<div>\n",
       "<style scoped>\n",
       "    .dataframe tbody tr th:only-of-type {\n",
       "        vertical-align: middle;\n",
       "    }\n",
       "\n",
       "    .dataframe tbody tr th {\n",
       "        vertical-align: top;\n",
       "    }\n",
       "\n",
       "    .dataframe thead th {\n",
       "        text-align: right;\n",
       "    }\n",
       "</style>\n",
       "<table border=\"1\" class=\"dataframe\">\n",
       "  <thead>\n",
       "    <tr style=\"text-align: right;\">\n",
       "      <th></th>\n",
       "      <th>age</th>\n",
       "      <th>job</th>\n",
       "      <th>marital</th>\n",
       "      <th>education</th>\n",
       "      <th>default</th>\n",
       "      <th>balance</th>\n",
       "      <th>housing</th>\n",
       "      <th>loan</th>\n",
       "      <th>contact</th>\n",
       "      <th>day</th>\n",
       "      <th>month</th>\n",
       "      <th>duration</th>\n",
       "      <th>campaign</th>\n",
       "      <th>pdays</th>\n",
       "      <th>previous</th>\n",
       "      <th>poutcome</th>\n",
       "      <th>y</th>\n",
       "    </tr>\n",
       "  </thead>\n",
       "  <tbody>\n",
       "    <tr>\n",
       "      <th>0</th>\n",
       "      <td>58</td>\n",
       "      <td>management</td>\n",
       "      <td>married</td>\n",
       "      <td>tertiary</td>\n",
       "      <td>no</td>\n",
       "      <td>2143</td>\n",
       "      <td>yes</td>\n",
       "      <td>no</td>\n",
       "      <td>unknown</td>\n",
       "      <td>5</td>\n",
       "      <td>may</td>\n",
       "      <td>261</td>\n",
       "      <td>1</td>\n",
       "      <td>-1</td>\n",
       "      <td>0</td>\n",
       "      <td>unknown</td>\n",
       "      <td>no</td>\n",
       "    </tr>\n",
       "    <tr>\n",
       "      <th>1</th>\n",
       "      <td>44</td>\n",
       "      <td>technician</td>\n",
       "      <td>single</td>\n",
       "      <td>secondary</td>\n",
       "      <td>no</td>\n",
       "      <td>29</td>\n",
       "      <td>yes</td>\n",
       "      <td>no</td>\n",
       "      <td>unknown</td>\n",
       "      <td>5</td>\n",
       "      <td>may</td>\n",
       "      <td>151</td>\n",
       "      <td>1</td>\n",
       "      <td>-1</td>\n",
       "      <td>0</td>\n",
       "      <td>unknown</td>\n",
       "      <td>no</td>\n",
       "    </tr>\n",
       "    <tr>\n",
       "      <th>2</th>\n",
       "      <td>33</td>\n",
       "      <td>entrepreneur</td>\n",
       "      <td>married</td>\n",
       "      <td>secondary</td>\n",
       "      <td>no</td>\n",
       "      <td>2</td>\n",
       "      <td>yes</td>\n",
       "      <td>yes</td>\n",
       "      <td>unknown</td>\n",
       "      <td>5</td>\n",
       "      <td>may</td>\n",
       "      <td>76</td>\n",
       "      <td>1</td>\n",
       "      <td>-1</td>\n",
       "      <td>0</td>\n",
       "      <td>unknown</td>\n",
       "      <td>no</td>\n",
       "    </tr>\n",
       "    <tr>\n",
       "      <th>3</th>\n",
       "      <td>47</td>\n",
       "      <td>blue-collar</td>\n",
       "      <td>married</td>\n",
       "      <td>unknown</td>\n",
       "      <td>no</td>\n",
       "      <td>1506</td>\n",
       "      <td>yes</td>\n",
       "      <td>no</td>\n",
       "      <td>unknown</td>\n",
       "      <td>5</td>\n",
       "      <td>may</td>\n",
       "      <td>92</td>\n",
       "      <td>1</td>\n",
       "      <td>-1</td>\n",
       "      <td>0</td>\n",
       "      <td>unknown</td>\n",
       "      <td>no</td>\n",
       "    </tr>\n",
       "    <tr>\n",
       "      <th>4</th>\n",
       "      <td>33</td>\n",
       "      <td>unknown</td>\n",
       "      <td>single</td>\n",
       "      <td>unknown</td>\n",
       "      <td>no</td>\n",
       "      <td>1</td>\n",
       "      <td>no</td>\n",
       "      <td>no</td>\n",
       "      <td>unknown</td>\n",
       "      <td>5</td>\n",
       "      <td>may</td>\n",
       "      <td>198</td>\n",
       "      <td>1</td>\n",
       "      <td>-1</td>\n",
       "      <td>0</td>\n",
       "      <td>unknown</td>\n",
       "      <td>no</td>\n",
       "    </tr>\n",
       "  </tbody>\n",
       "</table>\n",
       "</div>"
      ],
      "text/plain": [
       "   age           job  marital  education default  balance housing loan  \\\n",
       "0   58    management  married   tertiary      no     2143     yes   no   \n",
       "1   44    technician   single  secondary      no       29     yes   no   \n",
       "2   33  entrepreneur  married  secondary      no        2     yes  yes   \n",
       "3   47   blue-collar  married    unknown      no     1506     yes   no   \n",
       "4   33       unknown   single    unknown      no        1      no   no   \n",
       "\n",
       "   contact  day month  duration  campaign  pdays  previous poutcome   y  \n",
       "0  unknown    5   may       261         1     -1         0  unknown  no  \n",
       "1  unknown    5   may       151         1     -1         0  unknown  no  \n",
       "2  unknown    5   may        76         1     -1         0  unknown  no  \n",
       "3  unknown    5   may        92         1     -1         0  unknown  no  \n",
       "4  unknown    5   may       198         1     -1         0  unknown  no  "
      ]
     },
     "execution_count": 1,
     "metadata": {},
     "output_type": "execute_result"
    }
   ],
   "source": [
    "import pandas as pd\n",
    "df= pd.read_csv(\"C:\\\\Users\\\\abc\\\\Downloads\\\\PRCP-1000-ProtugeseBank\\\\Data\\\\bank-full.csv\",sep=\";\")\n",
    "import matplotlib.pyplot as plt\n",
    "import seaborn as sns\n",
    "%matplotlib inline\n",
    "from sklearn.metrics import accuracy_score\n",
    "from sklearn.metrics import roc_curve\n",
    "from sklearn.metrics import roc_auc_score\n",
    "from sklearn.metrics import precision_recall_curve\n",
    "from sklearn.model_selection import GridSearchCV\n",
    "from sklearn.metrics import classification_report\n",
    "df.head()\n"
   ]
  },
  {
   "cell_type": "code",
   "execution_count": 2,
   "metadata": {},
   "outputs": [
    {
     "name": "stdout",
     "output_type": "stream",
     "text": [
      "age           15.0\n",
      "balance     1356.0\n",
      "day           13.0\n",
      "duration     216.0\n",
      "campaign       2.0\n",
      "pdays          0.0\n",
      "previous       0.0\n",
      "dtype: float64\n"
     ]
    }
   ],
   "source": [
    "Q1 = df.quantile(0.25)\n",
    "Q3 = df.quantile(0.75)\n",
    "IQR = Q3 - Q1\n",
    "print(IQR)"
   ]
  },
  {
   "cell_type": "code",
   "execution_count": 3,
   "metadata": {},
   "outputs": [],
   "source": [
    "#df1 = df[~((df < (Q1 - 1.5 * IQR)) |(df > (Q3 + 1.5 * IQR))).any(axis=1)]\n",
    "#df1.shape"
   ]
  },
  {
   "cell_type": "code",
   "execution_count": 4,
   "metadata": {},
   "outputs": [
    {
     "name": "stdout",
     "output_type": "stream",
     "text": [
      "lower outlier in duration -221.0\n",
      "upper outlier in duration 643.0\n",
      "number of upper outliers in duration :  3235\n",
      "number of lower outliers in duration :  0\n",
      "percentage of upper outliers in duration :  7.155338302625467 %\n",
      "percentage of lower outliers in duration :  0.0 %\n"
     ]
    }
   ],
   "source": [
    "q1duration=df['duration'].quantile(q=0.25)\n",
    "q3duration=df['duration'].quantile(q=0.75)\n",
    "IQR= q3duration-q1duration\n",
    "l_out= q1duration-1.5*(IQR)\n",
    "u_out= q3duration+1.5*(IQR)\n",
    "print(\"lower outlier in duration\",l_out)\n",
    "print(\"upper outlier in duration\",u_out)\n",
    "upper_duration=df[df['duration']>643.0]['duration'].count()\n",
    "lower_duration=df[df['duration']<-221]['duration'].count()\n",
    "print('number of upper outliers in duration : ', upper_duration )\n",
    "print('number of lower outliers in duration : ', lower_duration )\n",
    "print('percentage of upper outliers in duration : ', upper_duration*100/len(df),'%')\n",
    "print('percentage of lower outliers in duration : ', lower_duration*100/len(df),'%')\n"
   ]
  },
  {
   "cell_type": "code",
   "execution_count": 5,
   "metadata": {},
   "outputs": [
    {
     "name": "stdout",
     "output_type": "stream",
     "text": [
      "lower outlier in age 10.5\n",
      "upper outlier in age 70.5\n",
      "number of upper outliers in age :  487\n",
      "number of lower outliers in age :  0\n",
      "percentage of upper outliers in age :  1.0771714848156422 %\n",
      "percentage of lower outliers in age :  0.0 %\n"
     ]
    }
   ],
   "source": [
    "q1age=df['age'].quantile(q=0.25)\n",
    "q3age=df['age'].quantile(q=0.75)\n",
    "IQR= q3age-q1age\n",
    "l_out_age= q1age-1.5*(IQR)\n",
    "u_out_age= q3age+1.5*(IQR)\n",
    "print(\"lower outlier in age\",l_out_age)\n",
    "print(\"upper outlier in age\",u_out_age)\n",
    "upper_age=df[df['age']>70.5]['age'].count()\n",
    "lower_age=df[df['age']<-10.5]['age'].count()\n",
    "print('number of upper outliers in age : ', upper_age )\n",
    "print('number of lower outliers in age : ', lower_age )\n",
    "print('percentage of upper outliers in age : ', upper_age*100/len(df),'%')\n",
    "print('percentage of lower outliers in age : ', lower_age*100/len(df),'%')\n",
    "\n"
   ]
  },
  {
   "cell_type": "code",
   "execution_count": 6,
   "metadata": {},
   "outputs": [
    {
     "name": "stdout",
     "output_type": "stream",
     "text": [
      "lower outlier in bal -1962.0\n",
      "upper outlier in bal 3462.0\n",
      "number of upper outliers in bal :  4712\n",
      "number of lower outliers in bal :  17\n",
      "percentage of upper outliers in bal :  10.42224237464334 %\n",
      "percentage of lower outliers in bal :  0.037601468669129195 %\n"
     ]
    }
   ],
   "source": [
    "q1bal=df['balance'].quantile(q=0.25)\n",
    "q3bal=df['balance'].quantile(q=0.75)\n",
    "IQR= q3bal-q1bal\n",
    "l_out= q1bal-1.5*(IQR)\n",
    "u_out= q3bal+1.5*(IQR)\n",
    "print(\"lower outlier in bal\",l_out)\n",
    "print(\"upper outlier in bal\",u_out)\n",
    "upper_bal=df[df['balance']>3462.0]['balance'].count()\n",
    "lower_bal=df[df['balance']<-1962.0]['balance'].count()\n",
    "print('number of upper outliers in bal : ', upper_bal )\n",
    "print('number of lower outliers in bal : ', lower_bal )\n",
    "print('percentage of upper outliers in bal : ', upper_bal*100/len(df),'%')\n",
    "print('percentage of lower outliers in bal : ', lower_bal*100/len(df),'%')"
   ]
  },
  {
   "cell_type": "code",
   "execution_count": 7,
   "metadata": {},
   "outputs": [
    {
     "name": "stdout",
     "output_type": "stream",
     "text": [
      "lower outlier in campaign -2.0\n",
      "upper outlier in campaign 6.0\n",
      "number of upper outliers in campaign :  3064\n",
      "number of lower outliers in campaign :  0\n",
      "percentage of upper outliers in campaign :  6.7771117648359915 %\n",
      "percentage of lower outliers in campaign :  0.0 %\n"
     ]
    }
   ],
   "source": [
    "q1cam=df['campaign'].quantile(q=0.25)\n",
    "q3cam=df['campaign'].quantile(q=0.75)\n",
    "IQR= q3cam-q1cam\n",
    "l_out_camp= q1cam-1.5*(IQR)\n",
    "u_out_camp= q3cam+1.5*(IQR)\n",
    "print(\"lower outlier in campaign\",l_out_camp)\n",
    "print(\"upper outlier in campaign\",u_out_camp)\n",
    "upper_cam=df[df['campaign']>6.0]['campaign'].count()\n",
    "lower_cam=df[df['campaign']<-2.0]['campaign'].count()\n",
    "print('number of upper outliers in campaign : ', upper_cam )\n",
    "print('number of lower outliers in campaign : ', lower_cam )\n",
    "print('percentage of upper outliers in campaign : ', upper_cam*100/len(df),'%')\n",
    "print('percentage of lower outliers in campaign : ', lower_cam*100/len(df),'%')"
   ]
  },
  {
   "cell_type": "code",
   "execution_count": 8,
   "metadata": {},
   "outputs": [
    {
     "name": "stdout",
     "output_type": "stream",
     "text": [
      "lower outlier in pdays -1.0\n",
      "upper outlier in pdays -1.0\n",
      "number of upper outliers in pdays :  8257\n",
      "number of lower outliers in pdays :  0\n",
      "percentage of upper outliers in pdays :  18.263254517705867 %\n",
      "percentage of lower outliers in pdays  :  0.0 %\n"
     ]
    }
   ],
   "source": [
    "q1pday=df['pdays'].quantile(q=0.25)\n",
    "q3pday=df['pdays'].quantile(q=0.75)\n",
    "IQR= q3pday-q1pday\n",
    "l_out= q1pday-1.5*(IQR)\n",
    "u_out= q3pday+1.5*(IQR)\n",
    "print(\"lower outlier in pdays\",l_out)\n",
    "print(\"upper outlier in pdays\",u_out)\n",
    "upper_pday=df[df['pdays']>-1.0]['pdays'].count()\n",
    "lower_pday=df[df['pdays']<-1.0]['pdays'].count()\n",
    "print('number of upper outliers in pdays : ', upper_pday )\n",
    "print('number of lower outliers in pdays : ', lower_pday )\n",
    "print('percentage of upper outliers in pdays : ', upper_pday*100/len(df),'%')\n",
    "print('percentage of lower outliers in pdays  : ', lower_pday*100/len(df),'%')"
   ]
  },
  {
   "cell_type": "code",
   "execution_count": 9,
   "metadata": {},
   "outputs": [
    {
     "name": "stdout",
     "output_type": "stream",
     "text": [
      "lower outlier in previous 0.0\n",
      "upper outlier in previous 0.0\n",
      "number of upper outliers in previous :  8257\n",
      "number of lower outliers in previous :  0\n",
      "percentage of upper outliers in previous :  18.263254517705867 %\n",
      "percentage of lower outliers in previous  :  0.0 %\n"
     ]
    }
   ],
   "source": [
    "q1pre=df['previous'].quantile(q=0.25)\n",
    "q3pre=df['previous'].quantile(q=0.75)\n",
    "IQR= q3pre-q1pre\n",
    "l_out= q1pre-1.5*(IQR)\n",
    "u_out= q3pre+1.5*(IQR)\n",
    "print(\"lower outlier in previous\",l_out)\n",
    "print(\"upper outlier in previous\",u_out)\n",
    "upper_pre=df[df['previous']>0]['previous'].count()\n",
    "lower_pre=df[df['previous']<0]['previous'].count()\n",
    "print('number of upper outliers in previous : ', upper_pre )\n",
    "print('number of lower outliers in previous : ', lower_pre )\n",
    "print('percentage of upper outliers in previous : ', upper_pre*100/len(df),'%')\n",
    "print('percentage of lower outliers in previous  : ', lower_pre*100/len(df),'%')"
   ]
  },
  {
   "cell_type": "code",
   "execution_count": 10,
   "metadata": {},
   "outputs": [
    {
     "data": {
      "text/plain": [
       "count    45211.000000\n",
       "mean        40.936210\n",
       "std         10.618762\n",
       "min         18.000000\n",
       "25%         33.000000\n",
       "50%         39.000000\n",
       "75%         48.000000\n",
       "max         95.000000\n",
       "Name: age, dtype: float64"
      ]
     },
     "execution_count": 10,
     "metadata": {},
     "output_type": "execute_result"
    }
   ],
   "source": [
    "df.age.describe()"
   ]
  },
  {
   "cell_type": "code",
   "execution_count": 11,
   "metadata": {},
   "outputs": [
    {
     "data": {
      "text/plain": [
       "<matplotlib.axes._subplots.AxesSubplot at 0x1c191b26888>"
      ]
     },
     "execution_count": 11,
     "metadata": {},
     "output_type": "execute_result"
    },
    {
     "data": {
      "image/png": "[encoded data removed]",
      "text/plain": [
       "<Figure size 432x288 with 1 Axes>"
      ]
     },
     "metadata": {
      "needs_background": "light"
     },
     "output_type": "display_data"
    }
   ],
   "source": [
    "import matplotlib.pyplot as plt\n",
    "import seaborn as sns\n",
    "%matplotlib inline\n",
    "sns.distplot(df.age)"
   ]
  },
  {
   "cell_type": "markdown",
   "metadata": {},
   "source": [
    "age isn't normally distributed"
   ]
  },
  {
   "cell_type": "code",
   "execution_count": 12,
   "metadata": {},
   "outputs": [
    {
     "data": {
      "text/plain": [
       "39.0"
      ]
     },
     "execution_count": 12,
     "metadata": {},
     "output_type": "execute_result"
    }
   ],
   "source": [
    "df['age'].median()"
   ]
  },
  {
   "cell_type": "code",
   "execution_count": 13,
   "metadata": {},
   "outputs": [
    {
     "name": "stdout",
     "output_type": "stream",
     "text": [
      "lower outlier in age 10.5\n",
      "upper outlier in age 70.5\n"
     ]
    }
   ],
   "source": [
    "print(\"lower outlier in age\",l_out_age)\n",
    "print(\"upper outlier in age\",u_out_age)"
   ]
  },
  {
   "cell_type": "code",
   "execution_count": 14,
   "metadata": {},
   "outputs": [],
   "source": [
    "for i in df.age:\n",
    "    if i>u_out_age:\n",
    "        df.replace(i,df['age'].median(),inplace=True)\n",
    "        "
   ]
  },
  {
   "cell_type": "code",
   "execution_count": 15,
   "metadata": {},
   "outputs": [
    {
     "name": "stdout",
     "output_type": "stream",
     "text": [
      "number of upper outliers in age :  0\n",
      "number of lower outliers in age :  0\n",
      "percentage of upper outliers in age :  0.0 %\n",
      "percentage of lower outliers in age :  0.0 %\n"
     ]
    }
   ],
   "source": [
    "upper_age=df[df['age']>70.5]['age'].count()\n",
    "lower_age=df[df['age']<-10.5]['age'].count()\n",
    "print('number of upper outliers in age : ', upper_age )\n",
    "print('number of lower outliers in age : ', lower_age )\n",
    "print('percentage of upper outliers in age : ', upper_age*100/len(df),'%')\n",
    "print('percentage of lower outliers in age : ', lower_age*100/len(df),'%')\n",
    "\n"
   ]
  },
  {
   "cell_type": "code",
   "execution_count": 16,
   "metadata": {},
   "outputs": [
    {
     "data": {
      "text/plain": [
       "<matplotlib.axes._subplots.AxesSubplot at 0x1c191cbee48>"
      ]
     },
     "execution_count": 16,
     "metadata": {},
     "output_type": "execute_result"
    },
    {
     "data": {
      "image/png": "[encoded data removed]",
      "text/plain": [
       "<Figure size 432x288 with 1 Axes>"
      ]
     },
     "metadata": {
      "needs_background": "light"
     },
     "output_type": "display_data"
    }
   ],
   "source": [
    "sns.boxplot(df.age)"
   ]
  },
  {
   "cell_type": "code",
   "execution_count": 17,
   "metadata": {},
   "outputs": [],
   "source": [
    "#df.campaign.describe()"
   ]
  },
  {
   "cell_type": "code",
   "execution_count": 18,
   "metadata": {},
   "outputs": [],
   "source": [
    "#sns.distplot(df.campaign)"
   ]
  },
  {
   "cell_type": "code",
   "execution_count": 19,
   "metadata": {},
   "outputs": [],
   "source": [
    "#f['campaign'].median()"
   ]
  },
  {
   "cell_type": "code",
   "execution_count": 20,
   "metadata": {},
   "outputs": [],
   "source": [
    "#print(\"lower outlier in age\",l_out_camp)\n",
    "#print(\"upper outlier in age\",u_out_camp)"
   ]
  },
  {
   "cell_type": "code",
   "execution_count": 21,
   "metadata": {},
   "outputs": [],
   "source": [
    "#for i in df.campaign:\n",
    "   # if i>u_out_camp:\n",
    "      #  df.replace(i,df['campaign'].median(),inplace=True)\n",
    "        "
   ]
  },
  {
   "cell_type": "code",
   "execution_count": 22,
   "metadata": {},
   "outputs": [],
   "source": [
    "#upper_cam=df[df['campaign']>6.0]['campaign'].count()\n",
    "#lower_cam=df[df['campaign']<-2.0]['campaign'].count()\n",
    "#print('number of upper outliers in campaign : ', upper_cam )\n",
    "#print('number of lower outliers in campaign : ', lower_cam )\n",
    "#print('percentage of upper outliers in campaign : ', upper_cam*100/len(df),'%')\n",
    "#print('percentage of lower outliers in campaign : ', lower_cam*100/len(df),'%')\n",
    "\n"
   ]
  },
  {
   "cell_type": "code",
   "execution_count": 23,
   "metadata": {},
   "outputs": [],
   "source": [
    "#sns.boxplot(df.campaign)"
   ]
  },
  {
   "cell_type": "code",
   "execution_count": 24,
   "metadata": {},
   "outputs": [
    {
     "data": {
      "text/plain": [
       "(45211, 17)"
      ]
     },
     "execution_count": 24,
     "metadata": {},
     "output_type": "execute_result"
    }
   ],
   "source": [
    "df.shape"
   ]
  },
  {
   "cell_type": "code",
   "execution_count": 25,
   "metadata": {},
   "outputs": [],
   "source": [
    "from sklearn.preprocessing import LabelEncoder\n",
    "le=LabelEncoder()\n",
    "df.job=le.fit_transform(df.job)\n",
    "df.marital=le.fit_transform(df.marital)\n",
    "df.education=le.fit_transform(df.education)\n",
    "df.default=le.fit_transform(df.default)\n",
    "df.housing=le.fit_transform(df.housing)\n",
    "df.loan=le.fit_transform(df.loan)\n",
    "df.contact=le.fit_transform(df.contact)\n",
    "df.month=le.fit_transform(df.month)\n",
    "df.y=le.fit_transform(df.y)\n",
    "df.poutcome=le.fit_transform(df.poutcome)"
   ]
  },
  {
   "cell_type": "code",
   "execution_count": 28,
   "metadata": {},
   "outputs": [
    {
     "data": {
      "text/html": [
       "<div>\n",
       "<style scoped>\n",
       "    .dataframe tbody tr th:only-of-type {\n",
       "        vertical-align: middle;\n",
       "    }\n",
       "\n",
       "    .dataframe tbody tr th {\n",
       "        vertical-align: top;\n",
       "    }\n",
       "\n",
       "    .dataframe thead th {\n",
       "        text-align: right;\n",
       "    }\n",
       "</style>\n",
       "<table border=\"1\" class=\"dataframe\">\n",
       "  <thead>\n",
       "    <tr style=\"text-align: right;\">\n",
       "      <th></th>\n",
       "      <th>age</th>\n",
       "      <th>job</th>\n",
       "      <th>marital</th>\n",
       "      <th>education</th>\n",
       "      <th>default</th>\n",
       "      <th>balance</th>\n",
       "      <th>housing</th>\n",
       "      <th>loan</th>\n",
       "      <th>contact</th>\n",
       "      <th>day</th>\n",
       "      <th>month</th>\n",
       "      <th>duration</th>\n",
       "      <th>campaign</th>\n",
       "      <th>pdays</th>\n",
       "      <th>previous</th>\n",
       "      <th>poutcome</th>\n",
       "      <th>y</th>\n",
       "    </tr>\n",
       "  </thead>\n",
       "  <tbody>\n",
       "    <tr>\n",
       "      <th>0</th>\n",
       "      <td>58</td>\n",
       "      <td>4</td>\n",
       "      <td>1</td>\n",
       "      <td>2</td>\n",
       "      <td>0</td>\n",
       "      <td>2143</td>\n",
       "      <td>1</td>\n",
       "      <td>0</td>\n",
       "      <td>2</td>\n",
       "      <td>5</td>\n",
       "      <td>8</td>\n",
       "      <td>261</td>\n",
       "      <td>1</td>\n",
       "      <td>-1</td>\n",
       "      <td>0</td>\n",
       "      <td>3</td>\n",
       "      <td>0</td>\n",
       "    </tr>\n",
       "    <tr>\n",
       "      <th>1</th>\n",
       "      <td>44</td>\n",
       "      <td>9</td>\n",
       "      <td>2</td>\n",
       "      <td>1</td>\n",
       "      <td>0</td>\n",
       "      <td>29</td>\n",
       "      <td>1</td>\n",
       "      <td>0</td>\n",
       "      <td>2</td>\n",
       "      <td>5</td>\n",
       "      <td>8</td>\n",
       "      <td>151</td>\n",
       "      <td>1</td>\n",
       "      <td>-1</td>\n",
       "      <td>0</td>\n",
       "      <td>3</td>\n",
       "      <td>0</td>\n",
       "    </tr>\n",
       "    <tr>\n",
       "      <th>2</th>\n",
       "      <td>33</td>\n",
       "      <td>2</td>\n",
       "      <td>1</td>\n",
       "      <td>1</td>\n",
       "      <td>0</td>\n",
       "      <td>2</td>\n",
       "      <td>1</td>\n",
       "      <td>1</td>\n",
       "      <td>2</td>\n",
       "      <td>5</td>\n",
       "      <td>8</td>\n",
       "      <td>39</td>\n",
       "      <td>1</td>\n",
       "      <td>-1</td>\n",
       "      <td>0</td>\n",
       "      <td>3</td>\n",
       "      <td>0</td>\n",
       "    </tr>\n",
       "    <tr>\n",
       "      <th>3</th>\n",
       "      <td>47</td>\n",
       "      <td>1</td>\n",
       "      <td>1</td>\n",
       "      <td>3</td>\n",
       "      <td>0</td>\n",
       "      <td>1506</td>\n",
       "      <td>1</td>\n",
       "      <td>0</td>\n",
       "      <td>2</td>\n",
       "      <td>5</td>\n",
       "      <td>8</td>\n",
       "      <td>39</td>\n",
       "      <td>1</td>\n",
       "      <td>-1</td>\n",
       "      <td>0</td>\n",
       "      <td>3</td>\n",
       "      <td>0</td>\n",
       "    </tr>\n",
       "    <tr>\n",
       "      <th>4</th>\n",
       "      <td>33</td>\n",
       "      <td>11</td>\n",
       "      <td>2</td>\n",
       "      <td>3</td>\n",
       "      <td>0</td>\n",
       "      <td>1</td>\n",
       "      <td>0</td>\n",
       "      <td>0</td>\n",
       "      <td>2</td>\n",
       "      <td>5</td>\n",
       "      <td>8</td>\n",
       "      <td>198</td>\n",
       "      <td>1</td>\n",
       "      <td>-1</td>\n",
       "      <td>0</td>\n",
       "      <td>3</td>\n",
       "      <td>0</td>\n",
       "    </tr>\n",
       "  </tbody>\n",
       "</table>\n",
       "</div>"
      ],
      "text/plain": [
       "   age  job  marital  education  default  balance  housing  loan  contact  \\\n",
       "0   58    4        1          2        0     2143        1     0        2   \n",
       "1   44    9        2          1        0       29        1     0        2   \n",
       "2   33    2        1          1        0        2        1     1        2   \n",
       "3   47    1        1          3        0     1506        1     0        2   \n",
       "4   33   11        2          3        0        1        0     0        2   \n",
       "\n",
       "   day  month  duration  campaign  pdays  previous  poutcome  y  \n",
       "0    5      8       261         1     -1         0         3  0  \n",
       "1    5      8       151         1     -1         0         3  0  \n",
       "2    5      8        39         1     -1         0         3  0  \n",
       "3    5      8        39         1     -1         0         3  0  \n",
       "4    5      8       198         1     -1         0         3  0  "
      ]
     },
     "execution_count": 28,
     "metadata": {},
     "output_type": "execute_result"
    }
   ],
   "source": [
    "df.head()"
   ]
  },
  {
   "cell_type": "code",
   "execution_count": 27,
   "metadata": {},
   "outputs": [],
   "source": [
    "x=df.iloc[:,:-1]\n",
    "y= df.y"
   ]
  },
  {
   "cell_type": "code",
   "execution_count": 214,
   "metadata": {},
   "outputs": [],
   "source": [
    "\n",
    "from sklearn.model_selection import train_test_split\n",
    "x_train, x_test, y_train, y_test = train_test_split( x, y, test_size=0.33, random_state=42)"
   ]
  },
  {
   "cell_type": "code",
   "execution_count": 215,
   "metadata": {},
   "outputs": [],
   "source": [
    "from sklearn.preprocessing import MinMaxScaler\n",
    "scaler= MinMaxScaler()\n",
    "x_train=scaler.fit_transform(x_train)\n"
   ]
  },
  {
   "cell_type": "code",
   "execution_count": 216,
   "metadata": {},
   "outputs": [
    {
     "name": "stdout",
     "output_type": "stream",
     "text": [
      "Actual Classes Counter({0: 26747, 1: 3544})\n",
      "SMOTE Classes Counter({0: 26747, 1: 26747})\n"
     ]
    }
   ],
   "source": [
    "from imblearn.over_sampling import SMOTE\n",
    "smote = SMOTE()\n",
    "\n",
    "x_train_smote, y_train_smote = smote.fit_resample(x_train.astype('float'),y_train)\n",
    "from collections import Counter\n",
    "print(\"Actual Classes\",Counter(y_train))\n",
    "print(\"SMOTE Classes\",Counter(y_train_smote))\n"
   ]
  },
  {
   "cell_type": "markdown",
   "metadata": {},
   "source": [
    "# FEATURE SELECTION"
   ]
  },
  {
   "cell_type": "code",
   "execution_count": 217,
   "metadata": {},
   "outputs": [],
   "source": [
    "import pandas as pd\n",
    "from xgboost import XGBClassifier\n",
    "from matplotlib import pyplot"
   ]
  },
  {
   "cell_type": "code",
   "execution_count": 218,
   "metadata": {},
   "outputs": [
    {
     "name": "stderr",
     "output_type": "stream",
     "text": [
      "C:\\Users\\abc\\anaconda3\\lib\\site-packages\\xgboost\\sklearn.py:888: UserWarning: The use of label encoder in XGBClassifier is deprecated and will be removed in a future release. To remove this warning, do the following: 1) Pass option use_label_encoder=False when constructing XGBClassifier object; and 2) Encode your labels (y) as integers starting with 0, i.e. 0, 1, 2, ..., [num_class - 1].\n",
      "  warnings.warn(label_encoder_deprecation_msg, UserWarning)\n"
     ]
    },
    {
     "name": "stdout",
     "output_type": "stream",
     "text": [
      "[13:59:55] WARNING: C:/Users/Administrator/workspace/xgboost-win64_release_1.3.0/src/learner.cc:1061: Starting in XGBoost 1.3.0, the default evaluation metric used with the objective 'binary:logistic' was changed from 'error' to 'logloss'. Explicitly set eval_metric if you'd like to restore the old behavior.\n"
     ]
    },
    {
     "data": {
      "text/plain": [
       "XGBClassifier(base_score=0.5, booster='gbtree', colsample_bylevel=1,\n",
       "              colsample_bynode=1, colsample_bytree=1, gamma=0, gpu_id=-1,\n",
       "              importance_type='gain', interaction_constraints='',\n",
       "              learning_rate=0.300000012, max_delta_step=0, max_depth=6,\n",
       "              min_child_weight=1, missing=nan, monotone_constraints='()',\n",
       "              n_estimators=100, n_jobs=4, num_parallel_tree=1, random_state=0,\n",
       "              reg_alpha=0, reg_lambda=1, scale_pos_weight=1, subsample=1,\n",
       "              tree_method='exact', validate_parameters=1, verbosity=None)"
      ]
     },
     "execution_count": 218,
     "metadata": {},
     "output_type": "execute_result"
    }
   ],
   "source": [
    "model = XGBClassifier()\n",
    "model.fit(x_train_smote,y_train_smote)"
   ]
  },
  {
   "cell_type": "code",
   "execution_count": 258,
   "metadata": {},
   "outputs": [
    {
     "name": "stdout",
     "output_type": "stream",
     "text": [
      "[0.01276957 0.04261902 0.01596833 0.04170095 0.01198853 0.02115223\n",
      " 0.09950285 0.03292196 0.17173749 0.02730771 0.0724408  0.12561576\n",
      " 0.075156   0.0157247  0.12131164 0.11208241]\n"
     ]
    },
    {
     "data": {
      "image/png": "[encoded data removed]",
      "text/plain": [
       "<Figure size 432x288 with 1 Axes>"
      ]
     },
     "metadata": {
      "needs_background": "light"
     },
     "output_type": "display_data"
    }
   ],
   "source": [
    "print(model.feature_importances_)\n",
    "pyplot.bar(range(len(model.feature_importances_)), model.feature_importances_)\n",
    "pyplot.show()"
   ]
  },
  {
   "cell_type": "code",
   "execution_count": 259,
   "metadata": {},
   "outputs": [
    {
     "data": {
      "text/html": [
       "<div>\n",
       "<style scoped>\n",
       "    .dataframe tbody tr th:only-of-type {\n",
       "        vertical-align: middle;\n",
       "    }\n",
       "\n",
       "    .dataframe tbody tr th {\n",
       "        vertical-align: top;\n",
       "    }\n",
       "\n",
       "    .dataframe thead th {\n",
       "        text-align: right;\n",
       "    }\n",
       "</style>\n",
       "<table border=\"1\" class=\"dataframe\">\n",
       "  <thead>\n",
       "    <tr style=\"text-align: right;\">\n",
       "      <th></th>\n",
       "      <th>feature_importance</th>\n",
       "    </tr>\n",
       "  </thead>\n",
       "  <tbody>\n",
       "    <tr>\n",
       "      <th>contact</th>\n",
       "      <td>0.171737</td>\n",
       "    </tr>\n",
       "    <tr>\n",
       "      <th>duration</th>\n",
       "      <td>0.125616</td>\n",
       "    </tr>\n",
       "    <tr>\n",
       "      <th>previous</th>\n",
       "      <td>0.121312</td>\n",
       "    </tr>\n",
       "    <tr>\n",
       "      <th>poutcome</th>\n",
       "      <td>0.112082</td>\n",
       "    </tr>\n",
       "    <tr>\n",
       "      <th>housing</th>\n",
       "      <td>0.099503</td>\n",
       "    </tr>\n",
       "    <tr>\n",
       "      <th>campaign</th>\n",
       "      <td>0.075156</td>\n",
       "    </tr>\n",
       "    <tr>\n",
       "      <th>month</th>\n",
       "      <td>0.072441</td>\n",
       "    </tr>\n",
       "    <tr>\n",
       "      <th>job</th>\n",
       "      <td>0.042619</td>\n",
       "    </tr>\n",
       "    <tr>\n",
       "      <th>education</th>\n",
       "      <td>0.041701</td>\n",
       "    </tr>\n",
       "    <tr>\n",
       "      <th>loan</th>\n",
       "      <td>0.032922</td>\n",
       "    </tr>\n",
       "    <tr>\n",
       "      <th>day</th>\n",
       "      <td>0.027308</td>\n",
       "    </tr>\n",
       "    <tr>\n",
       "      <th>balance</th>\n",
       "      <td>0.021152</td>\n",
       "    </tr>\n",
       "    <tr>\n",
       "      <th>marital</th>\n",
       "      <td>0.015968</td>\n",
       "    </tr>\n",
       "    <tr>\n",
       "      <th>pdays</th>\n",
       "      <td>0.015725</td>\n",
       "    </tr>\n",
       "    <tr>\n",
       "      <th>age</th>\n",
       "      <td>0.012770</td>\n",
       "    </tr>\n",
       "    <tr>\n",
       "      <th>default</th>\n",
       "      <td>0.011989</td>\n",
       "    </tr>\n",
       "  </tbody>\n",
       "</table>\n",
       "</div>"
      ],
      "text/plain": [
       "           feature_importance\n",
       "contact              0.171737\n",
       "duration             0.125616\n",
       "previous             0.121312\n",
       "poutcome             0.112082\n",
       "housing              0.099503\n",
       "campaign             0.075156\n",
       "month                0.072441\n",
       "job                  0.042619\n",
       "education            0.041701\n",
       "loan                 0.032922\n",
       "day                  0.027308\n",
       "balance              0.021152\n",
       "marital              0.015968\n",
       "pdays                0.015725\n",
       "age                  0.012770\n",
       "default              0.011989"
      ]
     },
     "execution_count": 259,
     "metadata": {},
     "output_type": "execute_result"
    }
   ],
   "source": [
    "data  = pd.DataFrame(data = model.feature_importances_ ,columns=['feature_importance'] ,index=['age','job','marital','education','default','balance','housing','loan','contact','day','month','duration','campaign','pdays','previous','poutcome'])\n",
    "\n",
    "data.sort_values(by='feature_importance', ascending=False)"
   ]
  },
  {
   "cell_type": "markdown",
   "metadata": {},
   "source": [
    "## Training model using selected features"
   ]
  },
  {
   "cell_type": "code",
   "execution_count": 29,
   "metadata": {},
   "outputs": [
    {
     "data": {
      "text/html": [
       "<div>\n",
       "<style scoped>\n",
       "    .dataframe tbody tr th:only-of-type {\n",
       "        vertical-align: middle;\n",
       "    }\n",
       "\n",
       "    .dataframe tbody tr th {\n",
       "        vertical-align: top;\n",
       "    }\n",
       "\n",
       "    .dataframe thead th {\n",
       "        text-align: right;\n",
       "    }\n",
       "</style>\n",
       "<table border=\"1\" class=\"dataframe\">\n",
       "  <thead>\n",
       "    <tr style=\"text-align: right;\">\n",
       "      <th></th>\n",
       "      <th>age</th>\n",
       "      <th>job</th>\n",
       "      <th>marital</th>\n",
       "      <th>education</th>\n",
       "      <th>default</th>\n",
       "      <th>balance</th>\n",
       "      <th>housing</th>\n",
       "      <th>loan</th>\n",
       "      <th>contact</th>\n",
       "      <th>day</th>\n",
       "      <th>month</th>\n",
       "      <th>duration</th>\n",
       "      <th>campaign</th>\n",
       "      <th>pdays</th>\n",
       "      <th>previous</th>\n",
       "      <th>poutcome</th>\n",
       "      <th>y</th>\n",
       "    </tr>\n",
       "  </thead>\n",
       "  <tbody>\n",
       "    <tr>\n",
       "      <th>0</th>\n",
       "      <td>58</td>\n",
       "      <td>4</td>\n",
       "      <td>1</td>\n",
       "      <td>2</td>\n",
       "      <td>0</td>\n",
       "      <td>2143</td>\n",
       "      <td>1</td>\n",
       "      <td>0</td>\n",
       "      <td>2</td>\n",
       "      <td>5</td>\n",
       "      <td>8</td>\n",
       "      <td>261</td>\n",
       "      <td>1</td>\n",
       "      <td>-1</td>\n",
       "      <td>0</td>\n",
       "      <td>3</td>\n",
       "      <td>0</td>\n",
       "    </tr>\n",
       "    <tr>\n",
       "      <th>1</th>\n",
       "      <td>44</td>\n",
       "      <td>9</td>\n",
       "      <td>2</td>\n",
       "      <td>1</td>\n",
       "      <td>0</td>\n",
       "      <td>29</td>\n",
       "      <td>1</td>\n",
       "      <td>0</td>\n",
       "      <td>2</td>\n",
       "      <td>5</td>\n",
       "      <td>8</td>\n",
       "      <td>151</td>\n",
       "      <td>1</td>\n",
       "      <td>-1</td>\n",
       "      <td>0</td>\n",
       "      <td>3</td>\n",
       "      <td>0</td>\n",
       "    </tr>\n",
       "    <tr>\n",
       "      <th>2</th>\n",
       "      <td>33</td>\n",
       "      <td>2</td>\n",
       "      <td>1</td>\n",
       "      <td>1</td>\n",
       "      <td>0</td>\n",
       "      <td>2</td>\n",
       "      <td>1</td>\n",
       "      <td>1</td>\n",
       "      <td>2</td>\n",
       "      <td>5</td>\n",
       "      <td>8</td>\n",
       "      <td>39</td>\n",
       "      <td>1</td>\n",
       "      <td>-1</td>\n",
       "      <td>0</td>\n",
       "      <td>3</td>\n",
       "      <td>0</td>\n",
       "    </tr>\n",
       "    <tr>\n",
       "      <th>3</th>\n",
       "      <td>47</td>\n",
       "      <td>1</td>\n",
       "      <td>1</td>\n",
       "      <td>3</td>\n",
       "      <td>0</td>\n",
       "      <td>1506</td>\n",
       "      <td>1</td>\n",
       "      <td>0</td>\n",
       "      <td>2</td>\n",
       "      <td>5</td>\n",
       "      <td>8</td>\n",
       "      <td>39</td>\n",
       "      <td>1</td>\n",
       "      <td>-1</td>\n",
       "      <td>0</td>\n",
       "      <td>3</td>\n",
       "      <td>0</td>\n",
       "    </tr>\n",
       "    <tr>\n",
       "      <th>4</th>\n",
       "      <td>33</td>\n",
       "      <td>11</td>\n",
       "      <td>2</td>\n",
       "      <td>3</td>\n",
       "      <td>0</td>\n",
       "      <td>1</td>\n",
       "      <td>0</td>\n",
       "      <td>0</td>\n",
       "      <td>2</td>\n",
       "      <td>5</td>\n",
       "      <td>8</td>\n",
       "      <td>198</td>\n",
       "      <td>1</td>\n",
       "      <td>-1</td>\n",
       "      <td>0</td>\n",
       "      <td>3</td>\n",
       "      <td>0</td>\n",
       "    </tr>\n",
       "  </tbody>\n",
       "</table>\n",
       "</div>"
      ],
      "text/plain": [
       "   age  job  marital  education  default  balance  housing  loan  contact  \\\n",
       "0   58    4        1          2        0     2143        1     0        2   \n",
       "1   44    9        2          1        0       29        1     0        2   \n",
       "2   33    2        1          1        0        2        1     1        2   \n",
       "3   47    1        1          3        0     1506        1     0        2   \n",
       "4   33   11        2          3        0        1        0     0        2   \n",
       "\n",
       "   day  month  duration  campaign  pdays  previous  poutcome  y  \n",
       "0    5      8       261         1     -1         0         3  0  \n",
       "1    5      8       151         1     -1         0         3  0  \n",
       "2    5      8        39         1     -1         0         3  0  \n",
       "3    5      8        39         1     -1         0         3  0  \n",
       "4    5      8       198         1     -1         0         3  0  "
      ]
     },
     "execution_count": 29,
     "metadata": {},
     "output_type": "execute_result"
    }
   ],
   "source": [
    "df.head()"
   ]
  },
  {
   "cell_type": "code",
   "execution_count": 30,
   "metadata": {},
   "outputs": [],
   "source": [
    "data = df.drop(['age','job','marital','education','default','balance','day','pdays','loan','month'],\n",
    "            axis=1 )\n"
   ]
  },
  {
   "cell_type": "code",
   "execution_count": 31,
   "metadata": {},
   "outputs": [],
   "source": [
    "x1=data.iloc[:,:-1]\n",
    "y1=data.y"
   ]
  },
  {
   "cell_type": "code",
   "execution_count": 32,
   "metadata": {},
   "outputs": [
    {
     "data": {
      "text/html": [
       "<div>\n",
       "<style scoped>\n",
       "    .dataframe tbody tr th:only-of-type {\n",
       "        vertical-align: middle;\n",
       "    }\n",
       "\n",
       "    .dataframe tbody tr th {\n",
       "        vertical-align: top;\n",
       "    }\n",
       "\n",
       "    .dataframe thead th {\n",
       "        text-align: right;\n",
       "    }\n",
       "</style>\n",
       "<table border=\"1\" class=\"dataframe\">\n",
       "  <thead>\n",
       "    <tr style=\"text-align: right;\">\n",
       "      <th></th>\n",
       "      <th>housing</th>\n",
       "      <th>contact</th>\n",
       "      <th>duration</th>\n",
       "      <th>campaign</th>\n",
       "      <th>previous</th>\n",
       "      <th>poutcome</th>\n",
       "    </tr>\n",
       "  </thead>\n",
       "  <tbody>\n",
       "    <tr>\n",
       "      <th>0</th>\n",
       "      <td>1</td>\n",
       "      <td>2</td>\n",
       "      <td>261</td>\n",
       "      <td>1</td>\n",
       "      <td>0</td>\n",
       "      <td>3</td>\n",
       "    </tr>\n",
       "    <tr>\n",
       "      <th>1</th>\n",
       "      <td>1</td>\n",
       "      <td>2</td>\n",
       "      <td>151</td>\n",
       "      <td>1</td>\n",
       "      <td>0</td>\n",
       "      <td>3</td>\n",
       "    </tr>\n",
       "    <tr>\n",
       "      <th>2</th>\n",
       "      <td>1</td>\n",
       "      <td>2</td>\n",
       "      <td>39</td>\n",
       "      <td>1</td>\n",
       "      <td>0</td>\n",
       "      <td>3</td>\n",
       "    </tr>\n",
       "    <tr>\n",
       "      <th>3</th>\n",
       "      <td>1</td>\n",
       "      <td>2</td>\n",
       "      <td>39</td>\n",
       "      <td>1</td>\n",
       "      <td>0</td>\n",
       "      <td>3</td>\n",
       "    </tr>\n",
       "    <tr>\n",
       "      <th>4</th>\n",
       "      <td>0</td>\n",
       "      <td>2</td>\n",
       "      <td>198</td>\n",
       "      <td>1</td>\n",
       "      <td>0</td>\n",
       "      <td>3</td>\n",
       "    </tr>\n",
       "    <tr>\n",
       "      <th>...</th>\n",
       "      <td>...</td>\n",
       "      <td>...</td>\n",
       "      <td>...</td>\n",
       "      <td>...</td>\n",
       "      <td>...</td>\n",
       "      <td>...</td>\n",
       "    </tr>\n",
       "    <tr>\n",
       "      <th>45206</th>\n",
       "      <td>0</td>\n",
       "      <td>0</td>\n",
       "      <td>977</td>\n",
       "      <td>3</td>\n",
       "      <td>0</td>\n",
       "      <td>3</td>\n",
       "    </tr>\n",
       "    <tr>\n",
       "      <th>45207</th>\n",
       "      <td>0</td>\n",
       "      <td>0</td>\n",
       "      <td>456</td>\n",
       "      <td>2</td>\n",
       "      <td>0</td>\n",
       "      <td>3</td>\n",
       "    </tr>\n",
       "    <tr>\n",
       "      <th>45208</th>\n",
       "      <td>0</td>\n",
       "      <td>0</td>\n",
       "      <td>1127</td>\n",
       "      <td>5</td>\n",
       "      <td>3</td>\n",
       "      <td>2</td>\n",
       "    </tr>\n",
       "    <tr>\n",
       "      <th>45209</th>\n",
       "      <td>0</td>\n",
       "      <td>1</td>\n",
       "      <td>508</td>\n",
       "      <td>4</td>\n",
       "      <td>0</td>\n",
       "      <td>3</td>\n",
       "    </tr>\n",
       "    <tr>\n",
       "      <th>45210</th>\n",
       "      <td>0</td>\n",
       "      <td>0</td>\n",
       "      <td>361</td>\n",
       "      <td>2</td>\n",
       "      <td>11</td>\n",
       "      <td>1</td>\n",
       "    </tr>\n",
       "  </tbody>\n",
       "</table>\n",
       "<p>45211 rows × 6 columns</p>\n",
       "</div>"
      ],
      "text/plain": [
       "       housing  contact  duration  campaign  previous  poutcome\n",
       "0            1        2       261         1         0         3\n",
       "1            1        2       151         1         0         3\n",
       "2            1        2        39         1         0         3\n",
       "3            1        2        39         1         0         3\n",
       "4            0        2       198         1         0         3\n",
       "...        ...      ...       ...       ...       ...       ...\n",
       "45206        0        0       977         3         0         3\n",
       "45207        0        0       456         2         0         3\n",
       "45208        0        0      1127         5         3         2\n",
       "45209        0        1       508         4         0         3\n",
       "45210        0        0       361         2        11         1\n",
       "\n",
       "[45211 rows x 6 columns]"
      ]
     },
     "execution_count": 32,
     "metadata": {},
     "output_type": "execute_result"
    }
   ],
   "source": [
    "x1"
   ]
  },
  {
   "cell_type": "code",
   "execution_count": 33,
   "metadata": {},
   "outputs": [],
   "source": [
    "from sklearn.model_selection import train_test_split\n",
    "x_train, x_test, y_train, y_test = train_test_split( x1, y1, test_size=0.30, random_state=42,stratify=y1)"
   ]
  },
  {
   "cell_type": "code",
   "execution_count": 34,
   "metadata": {},
   "outputs": [],
   "source": [
    "from sklearn.preprocessing import MinMaxScaler\n",
    "scaler= MinMaxScaler()\n",
    "x_train=scaler.fit_transform(x_train)\n",
    "x_test=scaler.transform(x_test)\n"
   ]
  },
  {
   "cell_type": "code",
   "execution_count": 35,
   "metadata": {},
   "outputs": [
    {
     "name": "stdout",
     "output_type": "stream",
     "text": [
      "Actual Classes Counter({0: 27945, 1: 3702})\n",
      "SMOTE Classes Counter({0: 27945, 1: 27945})\n"
     ]
    }
   ],
   "source": [
    "from imblearn.over_sampling import SMOTE\n",
    "smote = SMOTE(sampling_strategy='minority')\n",
    "\n",
    "x_train_smote, y_train_smote = smote.fit_resample(x_train.astype('float'),y_train)\n",
    "from collections import Counter\n",
    "print(\"Actual Classes\",Counter(y_train))\n",
    "print(\"SMOTE Classes\",Counter(y_train_smote))"
   ]
  },
  {
   "cell_type": "code",
   "execution_count": 227,
   "metadata": {},
   "outputs": [],
   "source": [
    "from sklearn.linear_model import LogisticRegression\n",
    "logmodel = LogisticRegression()\n",
    "logmodel.fit(x_train_smote,y_train_smote)\n",
    "ls_predictions = logmodel.predict(x_test)\n"
   ]
  },
  {
   "cell_type": "code",
   "execution_count": 228,
   "metadata": {},
   "outputs": [
    {
     "name": "stdout",
     "output_type": "stream",
     "text": [
      "0.7952668829253907\n"
     ]
    }
   ],
   "source": [
    "\n",
    "\n",
    "print(accuracy_score(y_test,ls_predictions))"
   ]
  },
  {
   "cell_type": "markdown",
   "metadata": {},
   "source": [
    "accuracy of untuned logistic regression with selected features"
   ]
  },
  {
   "cell_type": "code",
   "execution_count": 36,
   "metadata": {},
   "outputs": [],
   "source": [
    "from sklearn.tree import DecisionTreeClassifier\n",
    "dismodel = DecisionTreeClassifier()\n",
    "dismodel.fit(x_train_smote,y_train_smote)\n",
    "dis_prediction = dismodel.predict(x_test)\n",
    "\n"
   ]
  },
  {
   "cell_type": "code",
   "execution_count": 230,
   "metadata": {},
   "outputs": [
    {
     "name": "stdout",
     "output_type": "stream",
     "text": [
      "0.8460631082276615\n"
     ]
    }
   ],
   "source": [
    "print(accuracy_score(y_test,dis_prediction))"
   ]
  },
  {
   "cell_type": "markdown",
   "metadata": {},
   "source": [
    "accuracy of untuned decision tree with selected features"
   ]
  },
  {
   "cell_type": "code",
   "execution_count": 231,
   "metadata": {},
   "outputs": [],
   "source": [
    "from sklearn.ensemble import RandomForestClassifier\n",
    "rfmodel= RandomForestClassifier()\n",
    "rfmodel.fit(x_train_smote,y_train_smote)\n",
    "rfpredict=rfmodel.predict(x_test)"
   ]
  },
  {
   "cell_type": "code",
   "execution_count": 232,
   "metadata": {},
   "outputs": [
    {
     "name": "stdout",
     "output_type": "stream",
     "text": [
      "0.8460631082276615\n"
     ]
    }
   ],
   "source": [
    "print(accuracy_score(y_test,rfpredict))"
   ]
  },
  {
   "cell_type": "markdown",
   "metadata": {},
   "source": [
    "accuracy of untuned Random forest with selected features"
   ]
  },
  {
   "cell_type": "code",
   "execution_count": 233,
   "metadata": {},
   "outputs": [],
   "source": [
    "from sklearn.neighbors import KNeighborsClassifier\n",
    "knnmodel=KNeighborsClassifier()\n",
    "knnmodel.fit(x_train_smote,y_train_smote)\n",
    "knnpredict=knnmodel.predict(x_test)\n"
   ]
  },
  {
   "cell_type": "code",
   "execution_count": 234,
   "metadata": {},
   "outputs": [
    {
     "name": "stdout",
     "output_type": "stream",
     "text": [
      "0.8252727808905927\n"
     ]
    }
   ],
   "source": [
    "print(accuracy_score(y_test,knnpredict))"
   ]
  },
  {
   "cell_type": "markdown",
   "metadata": {},
   "source": [
    "accuracy of untuned knn classifier with selected features"
   ]
  },
  {
   "cell_type": "code",
   "execution_count": 235,
   "metadata": {},
   "outputs": [
    {
     "name": "stderr",
     "output_type": "stream",
     "text": [
      "C:\\Users\\abc\\anaconda3\\lib\\site-packages\\xgboost\\sklearn.py:888: UserWarning: The use of label encoder in XGBClassifier is deprecated and will be removed in a future release. To remove this warning, do the following: 1) Pass option use_label_encoder=False when constructing XGBClassifier object; and 2) Encode your labels (y) as integers starting with 0, i.e. 0, 1, 2, ..., [num_class - 1].\n",
      "  warnings.warn(label_encoder_deprecation_msg, UserWarning)\n"
     ]
    },
    {
     "name": "stdout",
     "output_type": "stream",
     "text": [
      "[14:02:02] WARNING: C:/Users/Administrator/workspace/xgboost-win64_release_1.3.0/src/learner.cc:1061: Starting in XGBoost 1.3.0, the default evaluation metric used with the objective 'binary:logistic' was changed from 'error' to 'logloss'. Explicitly set eval_metric if you'd like to restore the old behavior.\n"
     ]
    }
   ],
   "source": [
    "from xgboost import XGBClassifier\n",
    "model = XGBClassifier()\n",
    "model.fit(x_train_smote,y_train_smote)\n",
    "xgbpredict=model.predict(x_test)"
   ]
  },
  {
   "cell_type": "code",
   "execution_count": 236,
   "metadata": {},
   "outputs": [
    {
     "name": "stdout",
     "output_type": "stream",
     "text": [
      "0.8273370687112946\n"
     ]
    }
   ],
   "source": [
    "print(accuracy_score(y_test,xgbpredict))"
   ]
  },
  {
   "cell_type": "markdown",
   "metadata": {},
   "source": [
    "accuracy of untuned XGBoost with selected features"
   ]
  },
  {
   "cell_type": "code",
   "execution_count": 237,
   "metadata": {},
   "outputs": [],
   "source": [
    "from sklearn import svm\n",
    "svmmodel=svm.SVC()\n",
    "svmmodel.fit(x_train_smote,y_train_smote)\n",
    "svmpredict=svmmodel.predict(x_test)"
   ]
  },
  {
   "cell_type": "code",
   "execution_count": 238,
   "metadata": {},
   "outputs": [
    {
     "name": "stdout",
     "output_type": "stream",
     "text": [
      "0.8164995576526098\n"
     ]
    }
   ],
   "source": [
    "print(accuracy_score(y_test,svmpredict))"
   ]
  },
  {
   "cell_type": "markdown",
   "metadata": {},
   "source": [
    "accuracy of untuned SVM with selected features"
   ]
  },
  {
   "cell_type": "markdown",
   "metadata": {},
   "source": [
    "Here best performance is shown by decision tree and random forest classifier\n",
    "we will perform tuning on both to check for more accuracy"
   ]
  },
  {
   "cell_type": "code",
   "execution_count": 50,
   "metadata": {},
   "outputs": [],
   "source": []
  },
  {
   "cell_type": "code",
   "execution_count": 37,
   "metadata": {},
   "outputs": [
    {
     "name": "stdout",
     "output_type": "stream",
     "text": [
      "Fitting 10 folds for each of 648 candidates, totalling 6480 fits\n"
     ]
    },
    {
     "name": "stderr",
     "output_type": "stream",
     "text": [
      "C:\\Users\\abc\\anaconda3\\lib\\site-packages\\sklearn\\model_selection\\_search.py:921: UserWarning: One or more of the test scores are non-finite: [       nan 0.72249061 0.72249061 0.72249061 0.72249061 0.72249061\n",
      " 0.72249061 0.72249061 0.72249061        nan 0.72249061 0.72249061\n",
      " 0.72249061 0.72249061 0.72249061 0.72249061 0.72249061 0.72249061\n",
      "        nan 0.72249061 0.72249061 0.72249061 0.72249061 0.72249061\n",
      " 0.72249061 0.72249061 0.72249061        nan 0.72249061 0.72249061\n",
      " 0.72249061 0.72249061 0.72249061 0.72249061 0.72249061 0.72249061\n",
      "        nan 0.72249061 0.72249061 0.72249061 0.72249061 0.72249061\n",
      " 0.72249061 0.72249061 0.72249061        nan 0.72249061 0.72249061\n",
      " 0.72249061 0.72249061 0.72249061 0.72249061 0.72249061 0.72249061\n",
      "        nan 0.72249061 0.72249061 0.72249061 0.72249061 0.72249061\n",
      " 0.72249061 0.72249061 0.72249061        nan 0.72249061 0.72249061\n",
      " 0.72249061 0.72249061 0.72249061 0.72249061 0.72249061 0.72249061\n",
      "        nan 0.76876006 0.76876006 0.76876006 0.76876006 0.76876006\n",
      " 0.76876006 0.76876006 0.76876006        nan 0.76876006 0.76876006\n",
      " 0.76876006 0.76876006 0.76876006 0.76876006 0.76876006 0.76876006\n",
      "        nan 0.76876006 0.76876006 0.76876006 0.76876006 0.76876006\n",
      " 0.76876006 0.76876006 0.76876006        nan 0.76876006 0.76876006\n",
      " 0.76876006 0.76876006 0.76876006 0.76876006 0.76876006 0.76876006\n",
      "        nan 0.78500626 0.78500626 0.78500626 0.78500626 0.78500626\n",
      " 0.78500626 0.78500626 0.78500626        nan 0.78500626 0.78500626\n",
      " 0.78500626 0.78500626 0.78500626 0.78500626 0.78500626 0.78500626\n",
      "        nan 0.78500626 0.78500626 0.78500626 0.78500626 0.78500626\n",
      " 0.78500626 0.78500626 0.78500626        nan 0.78500626 0.78500626\n",
      " 0.78500626 0.78500626 0.78500626 0.78500626 0.78500626 0.78500626\n",
      "        nan 0.80297012 0.80297012 0.80293434 0.80293434 0.80293434\n",
      " 0.80293434 0.80297012 0.80297012        nan 0.80297012 0.80293434\n",
      " 0.80293434 0.80297012 0.80297012 0.80293434 0.80293434 0.80293434\n",
      "        nan 0.80293434 0.80297012 0.80297012 0.80297012 0.80293434\n",
      " 0.80297012 0.80297012 0.80297012        nan 0.80298801 0.80298801\n",
      " 0.80295223 0.80298801 0.80298801 0.80298801 0.80295223 0.80298801\n",
      "        nan 0.8127572  0.8127572  0.81268563 0.81268563 0.8127572\n",
      " 0.81268563 0.81268563 0.81270352        nan 0.81272142 0.81263196\n",
      " 0.81273931 0.81264985 0.81264985 0.81266774 0.81264985 0.81272142\n",
      "        nan 0.81272142 0.81264985 0.81272142 0.81272142 0.81264985\n",
      " 0.81264985 0.81272142 0.81272142        nan 0.8127572  0.8127572\n",
      " 0.8127572  0.81268563 0.81268563 0.8127572  0.81268563 0.8127572\n",
      "        nan 0.81676507 0.81681875 0.81678297 0.81683664 0.81680086\n",
      " 0.81680086 0.81687243 0.81685454        nan 0.81683664 0.81687243\n",
      " 0.81687243 0.81683664 0.81685454 0.81680086 0.81689032 0.81687243\n",
      "        nan 0.81690821 0.816944   0.81690821 0.816944   0.816944\n",
      " 0.81690821 0.8169261  0.81696189        nan 0.81681875 0.81685454\n",
      " 0.81681875 0.81683664 0.81683664 0.81685454 0.81681875 0.81685454\n",
      "        nan 0.82080873 0.82084452 0.82080873 0.82082662 0.82075505\n",
      " 0.82079084 0.82095187 0.82082662        nan 0.82077295 0.82075505\n",
      " 0.82073716 0.82086241 0.82082662 0.82073716 0.82079084 0.82080873\n",
      "        nan 0.82095187 0.82077295 0.82089819 0.82079084 0.82080873\n",
      " 0.82075505 0.82093398 0.82075505        nan 0.82066559 0.82066559\n",
      " 0.82079084 0.82066559 0.82077295 0.8206477  0.82066559 0.82079084\n",
      "        nan 0.82438719 0.82440508 0.82447665 0.82442297 0.82431562\n",
      " 0.82445876 0.82447665 0.82447665        nan 0.8243693  0.82433351\n",
      " 0.82440508 0.82426194 0.82415459 0.82427984 0.82419037 0.82431562\n",
      "        nan 0.82449454 0.82431562 0.82445876 0.82449454 0.82451244\n",
      " 0.82433351 0.82431562 0.82442297        nan 0.82415459 0.82408302\n",
      " 0.82404724 0.82397567 0.82415459 0.82408302 0.8241367  0.82410091\n",
      "        nan 0.71996779 0.71996779 0.71996779 0.71996779 0.71996779\n",
      " 0.71996779 0.71996779 0.71996779        nan 0.71996779 0.71996779\n",
      " 0.71996779 0.71996779 0.71996779 0.71996779 0.71996779 0.71996779\n",
      "        nan 0.71996779 0.71996779 0.71996779 0.71996779 0.71996779\n",
      " 0.71996779 0.71996779 0.71996779        nan 0.71996779 0.71996779\n",
      " 0.71996779 0.71996779 0.71996779 0.71996779 0.71996779 0.71996779\n",
      "        nan 0.71996779 0.71996779 0.71996779 0.71996779 0.71996779\n",
      " 0.71996779 0.71996779 0.71996779        nan 0.71996779 0.71996779\n",
      " 0.71996779 0.71996779 0.71996779 0.71996779 0.71996779 0.71996779\n",
      "        nan 0.71996779 0.71996779 0.71996779 0.71996779 0.71996779\n",
      " 0.71996779 0.71996779 0.71996779        nan 0.71996779 0.71996779\n",
      " 0.71996779 0.71996779 0.71996779 0.71996779 0.71996779 0.71996779\n",
      "        nan 0.76246198 0.76246198 0.76246198 0.76246198 0.76246198\n",
      " 0.76246198 0.76246198 0.76246198        nan 0.76246198 0.76246198\n",
      " 0.76246198 0.76246198 0.76246198 0.76246198 0.76246198 0.76246198\n",
      "        nan 0.76246198 0.76246198 0.76246198 0.76246198 0.76246198\n",
      " 0.76246198 0.76246198 0.76246198        nan 0.76246198 0.76246198\n",
      " 0.76246198 0.76246198 0.76246198 0.76246198 0.76246198 0.76246198\n",
      "        nan 0.7737878  0.7737878  0.7737878  0.7737878  0.7737878\n",
      " 0.7737878  0.7737878  0.7737878         nan 0.7737878  0.7737878\n",
      " 0.7737878  0.7737878  0.7737878  0.7737878  0.7737878  0.7737878\n",
      "        nan 0.7737878  0.7737878  0.7737878  0.7737878  0.7737878\n",
      " 0.7737878  0.7737878  0.7737878         nan 0.7737878  0.7737878\n",
      " 0.7737878  0.7737878  0.7737878  0.7737878  0.7737878  0.7737878\n",
      "        nan 0.80050098 0.80050098 0.80050098 0.80053677 0.80053677\n",
      " 0.80053677 0.80050098 0.80053677        nan 0.80050098 0.80053677\n",
      " 0.80050098 0.80053677 0.80053677 0.80050098 0.80053677 0.80050098\n",
      "        nan 0.80050098 0.80053677 0.80050098 0.80050098 0.80053677\n",
      " 0.80053677 0.80050098 0.80053677        nan 0.80050098 0.80050098\n",
      " 0.80053677 0.80050098 0.80053677 0.80053677 0.80053677 0.80050098\n",
      "        nan 0.81032385 0.81028807 0.81028807 0.81028807 0.81032385\n",
      " 0.81032385 0.81032385 0.81028807        nan 0.81028807 0.81028807\n",
      " 0.81032385 0.81032385 0.81032385 0.81028807 0.81028807 0.81028807\n",
      "        nan 0.81032385 0.81028807 0.81028807 0.81028807 0.81028807\n",
      " 0.81032385 0.81032385 0.81028807        nan 0.81032385 0.81028807\n",
      " 0.81032385 0.81032385 0.81032385 0.81032385 0.81028807 0.81028807\n",
      "        nan 0.81569154 0.81567364 0.81567364 0.81572732 0.81569154\n",
      " 0.81569154 0.81569154 0.81567364        nan 0.81567364 0.81567364\n",
      " 0.81569154 0.81565575 0.81567364 0.81567364 0.81565575 0.81569154\n",
      "        nan 0.81572732 0.81572732 0.81576311 0.81574521 0.81574521\n",
      " 0.81576311 0.81576311 0.81576311        nan 0.81572732 0.81569154\n",
      " 0.81567364 0.81569154 0.81567364 0.81570943 0.81569154 0.81572732\n",
      "        nan 0.82118447 0.82120236 0.82120236 0.82123815 0.82123815\n",
      " 0.82122025 0.82120236 0.82120236        nan 0.82118447 0.82116658\n",
      " 0.82118447 0.82118447 0.82118447 0.82116658 0.82114868 0.82114868\n",
      "        nan 0.82114868 0.82118447 0.82116658 0.82113079 0.82114868\n",
      " 0.82118447 0.82114868 0.82120236        nan 0.82122025 0.82122025\n",
      " 0.82118447 0.82118447 0.82118447 0.82118447 0.82118447 0.82118447\n",
      "        nan 0.82188227 0.82179281 0.82184648 0.82184648 0.82173913\n",
      " 0.82172124 0.82182859 0.82177492        nan 0.82172124 0.82173913\n",
      " 0.82177492 0.82182859 0.82182859 0.82172124 0.82170335 0.82170335\n",
      "        nan 0.8218107  0.82182859 0.82193595 0.82191805 0.82190016\n",
      " 0.8218107  0.8218107  0.82184648        nan 0.8215781  0.82150653\n",
      " 0.82152442 0.82156021 0.82152442 0.82159599 0.82154232 0.82159599]\n",
      "  category=UserWarning\n"
     ]
    },
    {
     "data": {
      "text/plain": [
       "GridSearchCV(cv=10, estimator=DecisionTreeClassifier(), n_jobs=-1,\n",
       "             param_grid={'criterion': ['gini', 'entropy'],\n",
       "                         'max_depth': range(1, 10),\n",
       "                         'min_samples_leaf': range(1, 5),\n",
       "                         'min_samples_split': range(1, 10)},\n",
       "             verbose=10)"
      ]
     },
     "execution_count": 37,
     "metadata": {},
     "output_type": "execute_result"
    }
   ],
   "source": [
    "from sklearn.tree import DecisionTreeClassifier\n",
    "dismodel = DecisionTreeClassifier()\n",
    "param_dict = {\n",
    "    'criterion': ['gini','entropy'],\n",
    "    'max_depth': (range (1,10)),\n",
    "    'min_samples_split' : (range(1,10)),\n",
    "    'min_samples_leaf'  : (range(1,5))\n",
    "}\n",
    "\n",
    "grid =  GridSearchCV(dismodel,param_grid=param_dict,cv=10,verbose=10,n_jobs=-1)\n",
    "grid.fit(x_train_smote,y_train_smote)"
   ]
  },
  {
   "cell_type": "code",
   "execution_count": 38,
   "metadata": {},
   "outputs": [
    {
     "data": {
      "text/plain": [
       "{'criterion': 'gini',\n",
       " 'max_depth': 9,\n",
       " 'min_samples_leaf': 3,\n",
       " 'min_samples_split': 6}"
      ]
     },
     "execution_count": 38,
     "metadata": {},
     "output_type": "execute_result"
    }
   ],
   "source": [
    "grid.best_params_"
   ]
  },
  {
   "cell_type": "code",
   "execution_count": 41,
   "metadata": {},
   "outputs": [
    {
     "name": "stdout",
     "output_type": "stream",
     "text": [
      "0.79438218814509\n"
     ]
    }
   ],
   "source": [
    "from sklearn.tree import DecisionTreeClassifier\n",
    "dismodel = DecisionTreeClassifier(criterion = 'gini',\n",
    "    max_depth = 9,\n",
    "    min_samples_split =3 ,\n",
    "    min_samples_leaf  = 6 )\n",
    "dismodel.fit(x_train_smote,y_train_smote)\n",
    "dis_prediction = dismodel.predict(x_test)\n",
    "print(accuracy_score(y_test,dis_prediction))"
   ]
  },
  {
   "cell_type": "markdown",
   "metadata": {},
   "source": [
    " accuracy of tuned decision tree for selected features \n",
    "\n",
    "\n",
    "\n"
   ]
  },
  {
   "cell_type": "markdown",
   "metadata": {},
   "source": [
    "\n",
    "\n",
    "accuracy of untuned decision tree is better than tuned model of decision tree "
   ]
  },
  {
   "cell_type": "code",
   "execution_count": 54,
   "metadata": {},
   "outputs": [
    {
     "name": "stdout",
     "output_type": "stream",
     "text": [
      "              precision    recall  f1-score   support\n",
      "\n",
      "           0       0.97      0.79      0.87     11977\n",
      "           1       0.34      0.81      0.48      1587\n",
      "\n",
      "    accuracy                           0.79     13564\n",
      "   macro avg       0.66      0.80      0.68     13564\n",
      "weighted avg       0.90      0.79      0.83     13564\n",
      "\n"
     ]
    }
   ],
   "source": [
    "print(classification_report(y_test, dis_prediction))"
   ]
  },
  {
   "cell_type": "code",
   "execution_count": 43,
   "metadata": {},
   "outputs": [],
   "source": [
    "from sklearn.ensemble import RandomForestClassifier\n",
    "rfmodel= RandomForestClassifier()\n",
    "n_estimators = [10, 100, 1000]\n",
    "max_features = ['sqrt', 'log2']\n",
    "\n",
    "grid = dict(n_estimators=n_estimators,max_features=max_features)\n",
    "\n",
    "grid_search = GridSearchCV(estimator=rfmodel, param_grid=grid, n_jobs=-1, scoring='accuracy',error_score=0)\n",
    "grid_result = grid_search.fit(x_train_smote, y_train_smote)"
   ]
  },
  {
   "cell_type": "code",
   "execution_count": 47,
   "metadata": {},
   "outputs": [
    {
     "data": {
      "text/plain": [
       "{'max_features': 'sqrt', 'n_estimators': 1000}"
      ]
     },
     "execution_count": 47,
     "metadata": {},
     "output_type": "execute_result"
    }
   ],
   "source": [
    "grid_result.best_params_\n"
   ]
  },
  {
   "cell_type": "code",
   "execution_count": 36,
   "metadata": {},
   "outputs": [
    {
     "name": "stdout",
     "output_type": "stream",
     "text": [
      "0.8473901503981126\n"
     ]
    }
   ],
   "source": [
    "from sklearn.ensemble import RandomForestClassifier\n",
    "rfmodel= RandomForestClassifier(max_features= 'sqrt', n_estimators = 100)\n",
    "rfmodel.fit(x_train_smote,y_train_smote)\n",
    "rfpredict=rfmodel.predict(x_test)\n",
    "print(accuracy_score(y_test,rfpredict))\n"
   ]
  },
  {
   "cell_type": "markdown",
   "metadata": {},
   "source": [
    "tuned accuracy of random forest with selected features"
   ]
  },
  {
   "cell_type": "code",
   "execution_count": 53,
   "metadata": {},
   "outputs": [
    {
     "name": "stdout",
     "output_type": "stream",
     "text": [
      "              precision    recall  f1-score   support\n",
      "\n",
      "           0       0.93      0.89      0.91     11977\n",
      "           1       0.38      0.52      0.44      1587\n",
      "\n",
      "    accuracy                           0.84     13564\n",
      "   macro avg       0.66      0.70      0.67     13564\n",
      "weighted avg       0.87      0.84      0.85     13564\n",
      "\n"
     ]
    }
   ],
   "source": [
    "print(classification_report(y_test, rfpredict))"
   ]
  },
  {
   "cell_type": "markdown",
   "metadata": {},
   "source": [
    "we are getting a good average accuracy but performece for class yes of dependent feature  is not good\n",
    "\n",
    "lets train our model with all feature rather than just selected and compute performece "
   ]
  },
  {
   "cell_type": "markdown",
   "metadata": {},
   "source": [
    "# Model Training using all features"
   ]
  },
  {
   "cell_type": "code",
   "execution_count": 38,
   "metadata": {},
   "outputs": [
    {
     "data": {
      "text/html": [
       "<div>\n",
       "<style scoped>\n",
       "    .dataframe tbody tr th:only-of-type {\n",
       "        vertical-align: middle;\n",
       "    }\n",
       "\n",
       "    .dataframe tbody tr th {\n",
       "        vertical-align: top;\n",
       "    }\n",
       "\n",
       "    .dataframe thead th {\n",
       "        text-align: right;\n",
       "    }\n",
       "</style>\n",
       "<table border=\"1\" class=\"dataframe\">\n",
       "  <thead>\n",
       "    <tr style=\"text-align: right;\">\n",
       "      <th></th>\n",
       "      <th>age</th>\n",
       "      <th>job</th>\n",
       "      <th>marital</th>\n",
       "      <th>education</th>\n",
       "      <th>default</th>\n",
       "      <th>balance</th>\n",
       "      <th>housing</th>\n",
       "      <th>loan</th>\n",
       "      <th>contact</th>\n",
       "      <th>day</th>\n",
       "      <th>month</th>\n",
       "      <th>duration</th>\n",
       "      <th>campaign</th>\n",
       "      <th>pdays</th>\n",
       "      <th>previous</th>\n",
       "      <th>poutcome</th>\n",
       "      <th>y</th>\n",
       "    </tr>\n",
       "  </thead>\n",
       "  <tbody>\n",
       "    <tr>\n",
       "      <th>0</th>\n",
       "      <td>58</td>\n",
       "      <td>4</td>\n",
       "      <td>1</td>\n",
       "      <td>2</td>\n",
       "      <td>0</td>\n",
       "      <td>2143</td>\n",
       "      <td>1</td>\n",
       "      <td>0</td>\n",
       "      <td>2</td>\n",
       "      <td>5</td>\n",
       "      <td>8</td>\n",
       "      <td>261</td>\n",
       "      <td>1</td>\n",
       "      <td>-1</td>\n",
       "      <td>0</td>\n",
       "      <td>3</td>\n",
       "      <td>0</td>\n",
       "    </tr>\n",
       "    <tr>\n",
       "      <th>1</th>\n",
       "      <td>44</td>\n",
       "      <td>9</td>\n",
       "      <td>2</td>\n",
       "      <td>1</td>\n",
       "      <td>0</td>\n",
       "      <td>29</td>\n",
       "      <td>1</td>\n",
       "      <td>0</td>\n",
       "      <td>2</td>\n",
       "      <td>5</td>\n",
       "      <td>8</td>\n",
       "      <td>151</td>\n",
       "      <td>1</td>\n",
       "      <td>-1</td>\n",
       "      <td>0</td>\n",
       "      <td>3</td>\n",
       "      <td>0</td>\n",
       "    </tr>\n",
       "    <tr>\n",
       "      <th>2</th>\n",
       "      <td>33</td>\n",
       "      <td>2</td>\n",
       "      <td>1</td>\n",
       "      <td>1</td>\n",
       "      <td>0</td>\n",
       "      <td>2</td>\n",
       "      <td>1</td>\n",
       "      <td>1</td>\n",
       "      <td>2</td>\n",
       "      <td>5</td>\n",
       "      <td>8</td>\n",
       "      <td>39</td>\n",
       "      <td>1</td>\n",
       "      <td>-1</td>\n",
       "      <td>0</td>\n",
       "      <td>3</td>\n",
       "      <td>0</td>\n",
       "    </tr>\n",
       "    <tr>\n",
       "      <th>3</th>\n",
       "      <td>47</td>\n",
       "      <td>1</td>\n",
       "      <td>1</td>\n",
       "      <td>3</td>\n",
       "      <td>0</td>\n",
       "      <td>1506</td>\n",
       "      <td>1</td>\n",
       "      <td>0</td>\n",
       "      <td>2</td>\n",
       "      <td>5</td>\n",
       "      <td>8</td>\n",
       "      <td>39</td>\n",
       "      <td>1</td>\n",
       "      <td>-1</td>\n",
       "      <td>0</td>\n",
       "      <td>3</td>\n",
       "      <td>0</td>\n",
       "    </tr>\n",
       "    <tr>\n",
       "      <th>4</th>\n",
       "      <td>33</td>\n",
       "      <td>11</td>\n",
       "      <td>2</td>\n",
       "      <td>3</td>\n",
       "      <td>0</td>\n",
       "      <td>1</td>\n",
       "      <td>0</td>\n",
       "      <td>0</td>\n",
       "      <td>2</td>\n",
       "      <td>5</td>\n",
       "      <td>8</td>\n",
       "      <td>198</td>\n",
       "      <td>1</td>\n",
       "      <td>-1</td>\n",
       "      <td>0</td>\n",
       "      <td>3</td>\n",
       "      <td>0</td>\n",
       "    </tr>\n",
       "  </tbody>\n",
       "</table>\n",
       "</div>"
      ],
      "text/plain": [
       "   age  job  marital  education  default  balance  housing  loan  contact  \\\n",
       "0   58    4        1          2        0     2143        1     0        2   \n",
       "1   44    9        2          1        0       29        1     0        2   \n",
       "2   33    2        1          1        0        2        1     1        2   \n",
       "3   47    1        1          3        0     1506        1     0        2   \n",
       "4   33   11        2          3        0        1        0     0        2   \n",
       "\n",
       "   day  month  duration  campaign  pdays  previous  poutcome  y  \n",
       "0    5      8       261         1     -1         0         3  0  \n",
       "1    5      8       151         1     -1         0         3  0  \n",
       "2    5      8        39         1     -1         0         3  0  \n",
       "3    5      8        39         1     -1         0         3  0  \n",
       "4    5      8       198         1     -1         0         3  0  "
      ]
     },
     "execution_count": 38,
     "metadata": {},
     "output_type": "execute_result"
    }
   ],
   "source": [
    "df.head()"
   ]
  },
  {
   "cell_type": "code",
   "execution_count": 39,
   "metadata": {},
   "outputs": [],
   "source": [
    "x2=df.iloc[:,:-1]\n",
    "y2= df['y']"
   ]
  },
  {
   "cell_type": "code",
   "execution_count": 40,
   "metadata": {},
   "outputs": [],
   "source": [
    "from sklearn.model_selection import train_test_split\n",
    "x_train_all, x_test_all, y_train_all, y_test_all = train_test_split( x2, y2, test_size=0.30, random_state=42,stratify=y2)"
   ]
  },
  {
   "cell_type": "code",
   "execution_count": 41,
   "metadata": {},
   "outputs": [],
   "source": [
    "from sklearn.preprocessing import MinMaxScaler\n",
    "scaler= MinMaxScaler()\n",
    "x_train_all=scaler.fit_transform(x_train_all)\n",
    "x_test_all=scaler.transform(x_test_all)\n"
   ]
  },
  {
   "cell_type": "code",
   "execution_count": 42,
   "metadata": {},
   "outputs": [
    {
     "name": "stdout",
     "output_type": "stream",
     "text": [
      "Actual Classes Counter({0: 27945, 1: 3702})\n",
      "SMOTE Classes Counter({0: 27945, 1: 27945})\n"
     ]
    }
   ],
   "source": [
    "from imblearn.over_sampling import SMOTE\n",
    "smote = SMOTE(sampling_strategy='minority')\n",
    "\n",
    "x_train_smote2, y_train_smote2 = smote.fit_resample(x_train_all.astype('float'),y_train_all)\n",
    "from collections import Counter\n",
    "print(\"Actual Classes\",Counter(y_train_all))\n",
    "print(\"SMOTE Classes\",Counter(y_train_smote2))"
   ]
  },
  {
   "cell_type": "code",
   "execution_count": 44,
   "metadata": {},
   "outputs": [
    {
     "name": "stdout",
     "output_type": "stream",
     "text": [
      "0.8095694485402536\n"
     ]
    },
    {
     "name": "stderr",
     "output_type": "stream",
     "text": [
      "C:\\Users\\abc\\anaconda3\\lib\\site-packages\\sklearn\\linear_model\\_logistic.py:765: ConvergenceWarning: lbfgs failed to converge (status=1):\n",
      "STOP: TOTAL NO. of ITERATIONS REACHED LIMIT.\n",
      "\n",
      "Increase the number of iterations (max_iter) or scale the data as shown in:\n",
      "    https://scikit-learn.org/stable/modules/preprocessing.html\n",
      "Please also refer to the documentation for alternative solver options:\n",
      "    https://scikit-learn.org/stable/modules/linear_model.html#logistic-regression\n",
      "  extra_warning_msg=_LOGISTIC_SOLVER_CONVERGENCE_MSG)\n"
     ]
    }
   ],
   "source": [
    "from sklearn.linear_model import LogisticRegression\n",
    "logmodel = LogisticRegression()\n",
    "logmodel.fit(x_train_smote2,y_train_smote2)\n",
    "ls_predictions2 = logmodel.predict(x_test_all)\n",
    "print(accuracy_score(y_test_all,ls_predictions2))"
   ]
  },
  {
   "cell_type": "markdown",
   "metadata": {},
   "source": [
    "accuracy of untuned Logistic Regression model with all features"
   ]
  },
  {
   "cell_type": "code",
   "execution_count": 45,
   "metadata": {},
   "outputs": [
    {
     "name": "stdout",
     "output_type": "stream",
     "text": [
      "0.8552049542907697\n"
     ]
    }
   ],
   "source": [
    "from sklearn.tree import DecisionTreeClassifier\n",
    "dismodel = DecisionTreeClassifier()\n",
    "dismodel.fit(x_train_smote2,y_train_smote2)\n",
    "dis_prediction = dismodel.predict(x_test_all)\n",
    "\n",
    "print(accuracy_score(y_test_all,dis_prediction))"
   ]
  },
  {
   "cell_type": "markdown",
   "metadata": {},
   "source": [
    "accuracy of untuned Decision tree model with all features"
   ]
  },
  {
   "cell_type": "code",
   "execution_count": 46,
   "metadata": {
    "scrolled": true
   },
   "outputs": [
    {
     "name": "stdout",
     "output_type": "stream",
     "text": [
      "0.8923621350634031\n"
     ]
    }
   ],
   "source": [
    "from sklearn.ensemble import RandomForestClassifier\n",
    "rfmodel= RandomForestClassifier()\n",
    "rfmodel.fit(x_train_smote2,y_train_smote2)\n",
    "rfpredict=rfmodel.predict(x_test_all)\n",
    "print(accuracy_score(y_test_all,rfpredict))"
   ]
  },
  {
   "cell_type": "markdown",
   "metadata": {},
   "source": [
    "accuracy of untuned Random Forest model with all features"
   ]
  },
  {
   "cell_type": "code",
   "execution_count": 47,
   "metadata": {},
   "outputs": [
    {
     "name": "stdout",
     "output_type": "stream",
     "text": [
      "0.8163521085225597\n"
     ]
    }
   ],
   "source": [
    "from sklearn.neighbors import KNeighborsClassifier\n",
    "knnmodel=KNeighborsClassifier()\n",
    "knnmodel.fit(x_train_smote2,y_train_smote2)\n",
    "knnpredict=knnmodel.predict(x_test_all)\n",
    "\n",
    "print(accuracy_score(y_test_all,knnpredict))"
   ]
  },
  {
   "cell_type": "markdown",
   "metadata": {},
   "source": [
    "accuracy of untuned KNN model with all features"
   ]
  },
  {
   "cell_type": "code",
   "execution_count": 48,
   "metadata": {},
   "outputs": [
    {
     "name": "stderr",
     "output_type": "stream",
     "text": [
      "C:\\Users\\abc\\anaconda3\\lib\\site-packages\\xgboost\\sklearn.py:888: UserWarning: The use of label encoder in XGBClassifier is deprecated and will be removed in a future release. To remove this warning, do the following: 1) Pass option use_label_encoder=False when constructing XGBClassifier object; and 2) Encode your labels (y) as integers starting with 0, i.e. 0, 1, 2, ..., [num_class - 1].\n",
      "  warnings.warn(label_encoder_deprecation_msg, UserWarning)\n"
     ]
    },
    {
     "name": "stdout",
     "output_type": "stream",
     "text": [
      "[15:45:00] WARNING: C:/Users/Administrator/workspace/xgboost-win64_release_1.3.0/src/learner.cc:1061: Starting in XGBoost 1.3.0, the default evaluation metric used with the objective 'binary:logistic' was changed from 'error' to 'logloss'. Explicitly set eval_metric if you'd like to restore the old behavior.\n",
      "0.8163521085225597\n"
     ]
    }
   ],
   "source": [
    "from xgboost import XGBClassifier\n",
    "model = XGBClassifier()\n",
    "model.fit(x_train_smote2,y_train_smote2)\n",
    "xgbpredict=model.predict(x_test_all)\n",
    "print(accuracy_score(y_test_all,knnpredict))\n"
   ]
  },
  {
   "cell_type": "markdown",
   "metadata": {},
   "source": [
    "accuracy of untuned XGBoost model with all features"
   ]
  },
  {
   "cell_type": "code",
   "execution_count": 177,
   "metadata": {},
   "outputs": [
    {
     "name": "stdout",
     "output_type": "stream",
     "text": [
      "0.8265260984960189\n"
     ]
    }
   ],
   "source": [
    "from sklearn import svm\n",
    "svmmodel=svm.SVC()\n",
    "svmmodel.fit(x_train_smote2,y_train_smote2)\n",
    "svmpredict=svmmodel.predict(x_test_all)\n",
    "print(accuracy_score(y_test_all,svmpredict))"
   ]
  },
  {
   "cell_type": "markdown",
   "metadata": {},
   "source": [
    "accuracy of untuned SVM model with all features"
   ]
  },
  {
   "cell_type": "code",
   "execution_count": null,
   "metadata": {},
   "outputs": [],
   "source": []
  },
  {
   "cell_type": "markdown",
   "metadata": {},
   "source": [
    "Best performance with all features is shown by random forest \n",
    "\n",
    "we are going to perform tuning on random forest model too see if we get more accuracy"
   ]
  },
  {
   "cell_type": "code",
   "execution_count": 51,
   "metadata": {},
   "outputs": [],
   "source": [
    "from sklearn.ensemble import RandomForestClassifier\n",
    "rfmodel= RandomForestClassifier()\n",
    "n_estimators = [10, 100, 1000]\n",
    "max_features = ['sqrt', 'log2']\n",
    "\n",
    "grid = dict(n_estimators=n_estimators,max_features=max_features)\n",
    "\n",
    "grid_search = GridSearchCV(estimator=rfmodel, param_grid=grid, n_jobs=-1, scoring='accuracy',error_score=0)\n",
    "grid_result = grid_search.fit(x_train_smote2, y_train_smote2)"
   ]
  },
  {
   "cell_type": "code",
   "execution_count": 52,
   "metadata": {},
   "outputs": [
    {
     "data": {
      "text/plain": [
       "0.9414564322776883"
      ]
     },
     "execution_count": 52,
     "metadata": {},
     "output_type": "execute_result"
    }
   ],
   "source": [
    "grid_search.best_score_"
   ]
  },
  {
   "cell_type": "code",
   "execution_count": null,
   "metadata": {},
   "outputs": [],
   "source": []
  },
  {
   "cell_type": "code",
   "execution_count": 53,
   "metadata": {},
   "outputs": [
    {
     "data": {
      "text/plain": [
       "{'max_features': 'sqrt', 'n_estimators': 1000}"
      ]
     },
     "execution_count": 53,
     "metadata": {},
     "output_type": "execute_result"
    }
   ],
   "source": [
    "grid_search.best_params_"
   ]
  },
  {
   "cell_type": "code",
   "execution_count": 56,
   "metadata": {},
   "outputs": [
    {
     "name": "stdout",
     "output_type": "stream",
     "text": [
      "0.8930256561486287\n"
     ]
    }
   ],
   "source": [
    "from sklearn.ensemble import RandomForestClassifier\n",
    "rfmodel= RandomForestClassifier(max_features= 'sqrt', n_estimators = 1000)\n",
    "rfmodel.fit(x_train_smote2,y_train_smote2)\n",
    "rfpredict=rfmodel.predict(x_test_all)\n",
    "print(accuracy_score(y_test_all,rfpredict))"
   ]
  },
  {
   "cell_type": "code",
   "execution_count": 57,
   "metadata": {},
   "outputs": [
    {
     "name": "stdout",
     "output_type": "stream",
     "text": [
      "              precision    recall  f1-score   support\n",
      "\n",
      "           0       0.95      0.93      0.94     11977\n",
      "           1       0.54      0.65      0.59      1587\n",
      "\n",
      "    accuracy                           0.89     13564\n",
      "   macro avg       0.74      0.79      0.76     13564\n",
      "weighted avg       0.90      0.89      0.90     13564\n",
      "\n"
     ]
    }
   ],
   "source": [
    "print(classification_report(y_test_all, rfpredict))"
   ]
  },
  {
   "cell_type": "markdown",
   "metadata": {},
   "source": [
    "most acurate prediction of bank marketing data set is provided by tuned Random Forest with all features"
   ]
  },
  {
   "cell_type": "code",
   "execution_count": null,
   "metadata": {},
   "outputs": [],
   "source": []
  }
 ],
 "metadata": {
  "kernelspec": {
   "display_name": "Python 3",
   "language": "python",
   "name": "python3"
  },
  "language_info": {
   "codemirror_mode": {
    "name": "ipython",
    "version": 3
   },
   "file_extension": ".py",
   "mimetype": "text/x-python",
   "name": "python",
   "nbconvert_exporter": "python",
   "pygments_lexer": "ipython3",
   "version": "3.7.6"
  }
 },
 "nbformat": 4,
 "nbformat_minor": 4
}
